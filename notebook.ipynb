{
 "cells": [
  {
   "cell_type": "markdown",
   "metadata": {},
   "source": [
    "## An Automated Portfolio Trading System with Feature Preprocessing and Recurrent Reinforcement Learning"
   ]
  },
  {
   "cell_type": "markdown",
   "metadata": {},
   "source": [
    "### Setup"
   ]
  },
  {
   "cell_type": "code",
   "execution_count": 8,
   "metadata": {},
   "outputs": [
    {
     "name": "stdout",
     "output_type": "stream",
     "text": [
      "The autoreload extension is already loaded. To reload it, use:\n",
      "  %reload_ext autoreload\n"
     ]
    }
   ],
   "source": [
    "%load_ext autoreload\n",
    "%autoreload 2"
   ]
  },
  {
   "cell_type": "code",
   "execution_count": 9,
   "metadata": {},
   "outputs": [],
   "source": [
    "from lib.data import Data, INDICATORS\n",
    "from lib.model import RRL, train, validation\n",
    "\n",
    "from lib.metrics import (\n",
    "    calc_cumulative_profits, \n",
    "    calc_sharpe_ratio, \n",
    ")"
   ]
  },
  {
   "cell_type": "markdown",
   "metadata": {},
   "source": [
    "### Data"
   ]
  },
  {
   "cell_type": "code",
   "execution_count": 10,
   "metadata": {},
   "outputs": [],
   "source": [
    "assets = [\"XOM\", \"VZ\", \"NKE\", \"AMAT\", \"MCD\", \"MSFT\", \"AAP\", \"NOV\"]\n",
    "indicators = list(INDICATORS.keys())\n",
    "\n",
    "start_date = \"2009-12-31\"\n",
    "end_date = \"2017-12-29\""
   ]
  },
  {
   "cell_type": "code",
   "execution_count": 11,
   "metadata": {},
   "outputs": [
    {
     "name": "stdout",
     "output_type": "stream",
     "text": [
      "[*********************100%***********************]  8 of 8 completed\n"
     ]
    },
    {
     "data": {
      "text/plain": [
       "Data(start_date='2009-12-31', end_date='2017-12-29', assets=['XOM', 'VZ', 'NKE', 'AMAT', 'MCD', 'MSFT', 'AAP', 'NOV'], indicators=['MOM', 'MACD', 'MFI', 'RSI', 'ATR', 'NATR', 'CO', 'OBV'], window_size=100)"
      ]
     },
     "execution_count": 11,
     "metadata": {},
     "output_type": "execute_result"
    }
   ],
   "source": [
    "data = Data(start_date, end_date, assets, indicators)\n",
    "data"
   ]
  },
  {
   "cell_type": "markdown",
   "metadata": {},
   "source": [
    "## `RRL`"
   ]
  },
  {
   "cell_type": "code",
   "execution_count": 12,
   "metadata": {},
   "outputs": [
    {
     "data": {
      "text/plain": [
       "RRL(n_assets=8, n_features=8, delta=0, rho=0.1, l2=0.01)"
      ]
     },
     "execution_count": 12,
     "metadata": {},
     "output_type": "execute_result"
    }
   ],
   "source": [
    "rrl = RRL(n_assets=data.n_assets, n_features=data.n_features) \n",
    "rrl"
   ]
  },
  {
   "cell_type": "code",
   "execution_count": 13,
   "metadata": {},
   "outputs": [
    {
     "name": "stderr",
     "output_type": "stream",
     "text": [
      "Training in progress...: 100%|██████████| 100/100 [00:08<00:00, 11.48it/s, sharpe_ratio=0.101]\n"
     ]
    },
    {
     "name": "stdout",
     "output_type": "stream",
     "text": [
      "Validation in progress...\n",
      "sharpe_ratio=0.12075000035564921\n"
     ]
    },
    {
     "name": "stderr",
     "output_type": "stream",
     "text": [
      "Training in progress...: 100%|██████████| 100/100 [00:07<00:00, 12.59it/s, sharpe_ratio=0.121]\n"
     ]
    },
    {
     "name": "stdout",
     "output_type": "stream",
     "text": [
      "Validation in progress...\n",
      "sharpe_ratio=0.10470320465171407\n"
     ]
    },
    {
     "name": "stderr",
     "output_type": "stream",
     "text": [
      "Training in progress...:   1%|          | 1/100 [00:00<00:18,  5.29it/s, sharpe_ratio=0.105]\n"
     ]
    },
    {
     "name": "stdout",
     "output_type": "stream",
     "text": [
      "Validation in progress...\n",
      "sharpe_ratio=0.09591166161887024\n"
     ]
    },
    {
     "name": "stderr",
     "output_type": "stream",
     "text": [
      "Training in progress...: 100%|██████████| 100/100 [00:06<00:00, 16.06it/s, sharpe_ratio=0.0962]\n"
     ]
    },
    {
     "name": "stdout",
     "output_type": "stream",
     "text": [
      "Validation in progress...\n",
      "sharpe_ratio=0.11994701261431857\n"
     ]
    },
    {
     "name": "stderr",
     "output_type": "stream",
     "text": [
      "Training in progress...:   1%|          | 1/100 [00:00<00:15,  6.60it/s, sharpe_ratio=0.12]\n"
     ]
    },
    {
     "name": "stdout",
     "output_type": "stream",
     "text": [
      "Validation in progress...\n",
      "sharpe_ratio=0.09539184707736101\n"
     ]
    },
    {
     "name": "stderr",
     "output_type": "stream",
     "text": [
      "Training in progress...:   1%|          | 1/100 [00:00<00:14,  7.00it/s, sharpe_ratio=0.0954]\n"
     ]
    },
    {
     "name": "stdout",
     "output_type": "stream",
     "text": [
      "Validation in progress...\n",
      "sharpe_ratio=0.09563096885554961\n"
     ]
    },
    {
     "name": "stderr",
     "output_type": "stream",
     "text": [
      "Training in progress...:   1%|          | 1/100 [00:00<00:14,  6.61it/s, sharpe_ratio=0.0956]"
     ]
    },
    {
     "name": "stdout",
     "output_type": "stream",
     "text": [
      "Validation in progress...\n",
      "sharpe_ratio=0.11263789638267047\n"
     ]
    },
    {
     "name": "stderr",
     "output_type": "stream",
     "text": [
      "\n",
      "Training in progress...: 100%|██████████| 100/100 [00:07<00:00, 13.90it/s, sharpe_ratio=0.113]\n"
     ]
    },
    {
     "name": "stdout",
     "output_type": "stream",
     "text": [
      "Validation in progress...\n",
      "sharpe_ratio=0.11128439744399078\n"
     ]
    },
    {
     "name": "stderr",
     "output_type": "stream",
     "text": [
      "Training in progress...:   1%|          | 1/100 [00:00<00:11,  8.31it/s, sharpe_ratio=0.111]\n"
     ]
    },
    {
     "name": "stdout",
     "output_type": "stream",
     "text": [
      "Validation in progress...\n",
      "sharpe_ratio=0.102667805372977\n"
     ]
    },
    {
     "name": "stderr",
     "output_type": "stream",
     "text": [
      "Training in progress...:   1%|          | 1/100 [00:00<00:10,  9.90it/s, sharpe_ratio=0.103]\n"
     ]
    },
    {
     "name": "stdout",
     "output_type": "stream",
     "text": [
      "Validation in progress...\n",
      "sharpe_ratio=0.10650691576363089\n"
     ]
    },
    {
     "name": "stderr",
     "output_type": "stream",
     "text": [
      "Training in progress...:   1%|          | 1/100 [00:00<00:16,  6.06it/s, sharpe_ratio=0.107]"
     ]
    },
    {
     "name": "stdout",
     "output_type": "stream",
     "text": [
      "Validation in progress...\n"
     ]
    },
    {
     "name": "stderr",
     "output_type": "stream",
     "text": [
      "\n"
     ]
    },
    {
     "name": "stdout",
     "output_type": "stream",
     "text": [
      "sharpe_ratio=0.0965408922851956\n"
     ]
    },
    {
     "name": "stderr",
     "output_type": "stream",
     "text": [
      "Training in progress...: 100%|██████████| 100/100 [00:06<00:00, 15.29it/s, sharpe_ratio=0.0968]\n"
     ]
    },
    {
     "name": "stdout",
     "output_type": "stream",
     "text": [
      "Validation in progress...\n",
      "sharpe_ratio=0.09526221226802382\n"
     ]
    },
    {
     "name": "stderr",
     "output_type": "stream",
     "text": [
      "Training in progress...:   1%|          | 1/100 [00:00<00:12,  8.23it/s, sharpe_ratio=0.0952]\n"
     ]
    },
    {
     "name": "stdout",
     "output_type": "stream",
     "text": [
      "Validation in progress...\n",
      "sharpe_ratio=0.0980253412762917\n"
     ]
    },
    {
     "name": "stderr",
     "output_type": "stream",
     "text": [
      "Training in progress...: 100%|██████████| 100/100 [00:05<00:00, 17.67it/s, sharpe_ratio=0.0977]\n"
     ]
    },
    {
     "name": "stdout",
     "output_type": "stream",
     "text": [
      "Validation in progress...\n",
      "sharpe_ratio=0.10290314927361241\n"
     ]
    },
    {
     "name": "stderr",
     "output_type": "stream",
     "text": [
      "Training in progress...:  88%|████████▊ | 88/100 [00:05<00:00, 16.94it/s, sharpe_ratio=0.103]\n"
     ]
    },
    {
     "name": "stdout",
     "output_type": "stream",
     "text": [
      "Validation in progress...\n",
      "sharpe_ratio=0.09542658670049407\n"
     ]
    },
    {
     "name": "stderr",
     "output_type": "stream",
     "text": [
      "Training in progress...:   1%|          | 1/100 [00:00<00:15,  6.40it/s, sharpe_ratio=0.0953]\n"
     ]
    },
    {
     "name": "stdout",
     "output_type": "stream",
     "text": [
      "Validation in progress...\n",
      "sharpe_ratio=0.10891745380036567\n"
     ]
    },
    {
     "name": "stderr",
     "output_type": "stream",
     "text": [
      "Training in progress...: 100%|██████████| 100/100 [00:06<00:00, 15.23it/s, sharpe_ratio=0.109]\n"
     ]
    },
    {
     "name": "stdout",
     "output_type": "stream",
     "text": [
      "Validation in progress...\n",
      "sharpe_ratio=0.10214071029005314\n"
     ]
    },
    {
     "name": "stderr",
     "output_type": "stream",
     "text": [
      "Training in progress...:   1%|          | 1/100 [00:00<00:16,  5.99it/s, sharpe_ratio=0.102]\n"
     ]
    },
    {
     "name": "stdout",
     "output_type": "stream",
     "text": [
      "Validation in progress...\n",
      "sharpe_ratio=0.10603253551609942\n"
     ]
    }
   ],
   "source": [
    "portfolio_returns, sharpe_ratios = [], []\n",
    "n_bacthes = len(data.batch_features)\n",
    "\n",
    "for i in range(n_bacthes-1): \n",
    "\n",
    "    X_tr, r_tr = data.batch_features[i], data.batch_returns[i]\n",
    "    rrl.init_weights()\n",
    "    train(rrl, X_tr, r_tr, tol=.000001)\n",
    "\n",
    "    X_val, r_val = data.batch_features[i+1], data.batch_returns[i+1]\n",
    "    sr = validation(rrl, X_val, r_val)\n",
    "\n",
    "    portfolio_returns.append(rrl.portfolio_returns)\n",
    "    sharpe_ratios.append(sr)"
   ]
  }
 ],
 "metadata": {
  "kernelspec": {
   "display_name": "Python 3.9.9 64-bit",
   "language": "python",
   "name": "python3"
  },
  "language_info": {
   "codemirror_mode": {
    "name": "ipython",
    "version": 3
   },
   "file_extension": ".py",
   "mimetype": "text/x-python",
   "name": "python",
   "nbconvert_exporter": "python",
   "pygments_lexer": "ipython3",
   "version": "3.9.9"
  },
  "orig_nbformat": 4,
  "vscode": {
   "interpreter": {
    "hash": "b629fc759117c64fc32c8e4270d5db05fe17fdaaf7b496f2eeb1ebcced0d741e"
   }
  }
 },
 "nbformat": 4,
 "nbformat_minor": 2
}
